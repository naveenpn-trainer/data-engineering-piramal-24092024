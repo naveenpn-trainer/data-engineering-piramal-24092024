{
 "cells": [
  {
   "cell_type": "markdown",
   "metadata": {
    "application/vnd.databricks.v1+cell": {
     "cellMetadata": {},
     "inputWidgets": {},
     "nuid": "944e77ac-ba62-4dc6-bff3-8dfd1f967320",
     "showTitle": false,
     "title": ""
    }
   },
   "source": [
    "# Prerequisites\n",
    "\n",
    "1. Load users_001.csv into DataFrame\n",
    "2. Write the DF as Parquet format\n",
    "3. Read Parquet file"
   ]
  },
  {
   "cell_type": "code",
   "execution_count": 0,
   "metadata": {
    "application/vnd.databricks.v1+cell": {
     "cellMetadata": {
      "byteLimit": 2048000,
      "rowLimit": 10000
     },
     "inputWidgets": {},
     "nuid": "4285a286-70f9-49ae-a853-76d701d36a9a",
     "showTitle": false,
     "title": ""
    }
   },
   "outputs": [
    {
     "output_type": "stream",
     "name": "stdout",
     "output_type": "stream",
     "text": [
      "Out[3]: False"
     ]
    }
   ],
   "source": [
    "dbutils.fs.rm(\"/FileStore/tables/sample_dataset/users_parquet\", True)"
   ]
  },
  {
   "cell_type": "markdown",
   "metadata": {
    "application/vnd.databricks.v1+cell": {
     "cellMetadata": {},
     "inputWidgets": {},
     "nuid": "57c26a8d-2689-4d4b-9b63-9da4f6da442f",
     "showTitle": false,
     "title": ""
    }
   },
   "source": [
    "## Create DataFrame"
   ]
  },
  {
   "cell_type": "code",
   "execution_count": 0,
   "metadata": {
    "application/vnd.databricks.v1+cell": {
     "cellMetadata": {
      "byteLimit": 2048000,
      "rowLimit": 10000
     },
     "inputWidgets": {},
     "nuid": "9ddbc5b6-7bdf-4c9d-8f59-a9d18fc27eb3",
     "showTitle": false,
     "title": ""
    }
   },
   "outputs": [],
   "source": [
    "users_df = spark.read.csv(path=\"/FileStore/tables/sample_dataset/users_csv/\", \n",
    "               header=True, \n",
    "               inferSchema=True)\n"
   ]
  },
  {
   "cell_type": "markdown",
   "metadata": {
    "application/vnd.databricks.v1+cell": {
     "cellMetadata": {},
     "inputWidgets": {},
     "nuid": "e586ea72-087b-45a7-b6df-d8484d9b94e2",
     "showTitle": false,
     "title": ""
    }
   },
   "source": [
    "# Transactio 01 - Write Data as Delta Format"
   ]
  },
  {
   "cell_type": "code",
   "execution_count": 0,
   "metadata": {
    "application/vnd.databricks.v1+cell": {
     "cellMetadata": {
      "byteLimit": 2048000,
      "rowLimit": 10000
     },
     "inputWidgets": {},
     "nuid": "241cd66f-d889-4b9b-b4f2-04e26687bb22",
     "showTitle": false,
     "title": ""
    }
   },
   "outputs": [],
   "source": [
    "users_df.write.format(\"delta\").mode(\"overwrite\").save(\"/FileStore/tables/sample_dataset/users_delta\")"
   ]
  },
  {
   "cell_type": "markdown",
   "metadata": {
    "application/vnd.databricks.v1+cell": {
     "cellMetadata": {},
     "inputWidgets": {},
     "nuid": "fb3d6854-0de2-4de3-93d2-85df1614fb0e",
     "showTitle": false,
     "title": ""
    }
   },
   "source": [
    "# Transactio 02 - Overwrite Delta Folder Format"
   ]
  },
  {
   "cell_type": "code",
   "execution_count": 0,
   "metadata": {
    "application/vnd.databricks.v1+cell": {
     "cellMetadata": {
      "byteLimit": 2048000,
      "rowLimit": 10000
     },
     "inputWidgets": {},
     "nuid": "80d7f6e9-a083-46fe-98aa-b1f6e964f4c3",
     "showTitle": false,
     "title": ""
    }
   },
   "outputs": [],
   "source": [
    "from pyspark.sql.functions import col\n",
    "users_df.filter(col(\"city\")==\"Bangalore\").write.format(\"delta\").mode(\"overwrite\").save(\"/FileStore/tables/sample_dataset/users_delta\")"
   ]
  },
  {
   "cell_type": "markdown",
   "metadata": {
    "application/vnd.databricks.v1+cell": {
     "cellMetadata": {},
     "inputWidgets": {},
     "nuid": "7cc5d609-a101-43da-9c05-4db12ea53b89",
     "showTitle": false,
     "title": ""
    }
   },
   "source": [
    "# Transactio 03 - Append Delta Folder Format"
   ]
  },
  {
   "cell_type": "code",
   "execution_count": 0,
   "metadata": {
    "application/vnd.databricks.v1+cell": {
     "cellMetadata": {
      "byteLimit": 2048000,
      "rowLimit": 10000
     },
     "inputWidgets": {},
     "nuid": "26cae21e-cd87-4a8e-b1b6-afd41848105e",
     "showTitle": false,
     "title": ""
    }
   },
   "outputs": [],
   "source": [
    "from pyspark.sql.functions import col\n",
    "users_df.filter(col(\"city\")==\"Bangalore\").write.format(\"delta\").mode(\"append\").save(\"/FileStore/tables/sample_dataset/users_delta\")"
   ]
  },
  {
   "cell_type": "markdown",
   "metadata": {
    "application/vnd.databricks.v1+cell": {
     "cellMetadata": {},
     "inputWidgets": {},
     "nuid": "fccbf608-37b9-4ace-b36a-1bd674820d68",
     "showTitle": false,
     "title": ""
    }
   },
   "source": [
    "# Read the latest version by deault"
   ]
  },
  {
   "cell_type": "code",
   "execution_count": 0,
   "metadata": {
    "application/vnd.databricks.v1+cell": {
     "cellMetadata": {
      "byteLimit": 2048000,
      "rowLimit": 10000
     },
     "inputWidgets": {},
     "nuid": "42dedf07-86dd-4951-bc12-a45c88d4aceb",
     "showTitle": false,
     "title": ""
    }
   },
   "outputs": [
    {
     "output_type": "display_data",
     "data": {
      "text/html": [
       "<style scoped>\n",
       "  .table-result-container {\n",
       "    max-height: 300px;\n",
       "    overflow: auto;\n",
       "  }\n",
       "  table, th, td {\n",
       "    border: 1px solid black;\n",
       "    border-collapse: collapse;\n",
       "  }\n",
       "  th, td {\n",
       "    padding: 5px;\n",
       "  }\n",
       "  th {\n",
       "    text-align: left;\n",
       "  }\n",
       "</style><div class='table-result-container'><table class='table-result'><thead style='background-color: white'><tr><th>id</th><th>name</th><th>dob</th><th>email</th><th>gender</th><th>country</th><th>region</th><th>city</th><th>asset</th><th>marital_status</th></tr></thead><tbody><tr><td>263</td><td>Nelle Blake</td><td>2024-09-17</td><td>nelleblake5744@ymail.com</td><td>Transgender</td><td>India</td><td>Karnataka</td><td>Bangalore</td><td>908573</td><td>Married</td></tr><tr><td>263</td><td>Nelle Blake</td><td>2024-09-17</td><td>nelleblake5744@ymail.com</td><td>Transgender</td><td>India</td><td>Karnataka</td><td>Bangalore</td><td>908573</td><td>Married</td></tr></tbody></table></div>"
      ]
     },
     "metadata": {
      "application/vnd.databricks.v1+output": {
       "addedWidgets": {},
       "aggData": [],
       "aggError": "",
       "aggOverflow": false,
       "aggSchema": [],
       "aggSeriesLimitReached": false,
       "aggType": "",
       "arguments": {},
       "columnCustomDisplayInfos": {},
       "data": [
        [
         263,
         "Nelle Blake",
         "2024-09-17",
         "nelleblake5744@ymail.com",
         "Transgender",
         "India",
         "Karnataka",
         "Bangalore",
         908573,
         "Married"
        ],
        [
         263,
         "Nelle Blake",
         "2024-09-17",
         "nelleblake5744@ymail.com",
         "Transgender",
         "India",
         "Karnataka",
         "Bangalore",
         908573,
         "Married"
        ]
       ],
       "datasetInfos": [],
       "dbfsResultPath": null,
       "isJsonSchema": true,
       "metadata": {},
       "overflow": false,
       "plotOptions": {
        "customPlotOptions": {},
        "displayType": "table",
        "pivotAggregation": null,
        "pivotColumns": null,
        "xColumns": null,
        "yColumns": null
       },
       "removedWidgets": [],
       "schema": [
        {
         "metadata": "{}",
         "name": "id",
         "type": "\"integer\""
        },
        {
         "metadata": "{}",
         "name": "name",
         "type": "\"string\""
        },
        {
         "metadata": "{\"__detected_date_formats\":\"yyyy-M-d\"}",
         "name": "dob",
         "type": "\"date\""
        },
        {
         "metadata": "{}",
         "name": "email",
         "type": "\"string\""
        },
        {
         "metadata": "{}",
         "name": "gender",
         "type": "\"string\""
        },
        {
         "metadata": "{}",
         "name": "country",
         "type": "\"string\""
        },
        {
         "metadata": "{}",
         "name": "region",
         "type": "\"string\""
        },
        {
         "metadata": "{}",
         "name": "city",
         "type": "\"string\""
        },
        {
         "metadata": "{}",
         "name": "asset",
         "type": "\"integer\""
        },
        {
         "metadata": "{}",
         "name": "marital_status",
         "type": "\"string\""
        }
       ],
       "type": "table"
      }
     },
     "output_type": "display_data"
    }
   ],
   "source": [
    "spark.read.format(\"delta\").load(\"/FileStore/tables/sample_dataset/users_delta\").display()"
   ]
  },
  {
   "cell_type": "markdown",
   "metadata": {
    "application/vnd.databricks.v1+cell": {
     "cellMetadata": {},
     "inputWidgets": {},
     "nuid": "95c6f293-79c0-4eff-a4e7-0661bf4a8064",
     "showTitle": false,
     "title": ""
    }
   },
   "source": [
    "# Read Transaction Log"
   ]
  },
  {
   "cell_type": "markdown",
   "metadata": {
    "application/vnd.databricks.v1+cell": {
     "cellMetadata": {},
     "inputWidgets": {},
     "nuid": "fdba39f1-df61-43ec-9aea-812c6c836f6e",
     "showTitle": false,
     "title": ""
    }
   },
   "source": [
    "## Approach 1"
   ]
  },
  {
   "cell_type": "code",
   "execution_count": 0,
   "metadata": {
    "application/vnd.databricks.v1+cell": {
     "cellMetadata": {
      "byteLimit": 2048000,
      "rowLimit": 10000
     },
     "inputWidgets": {},
     "nuid": "19d3ba79-0c20-4335-87e5-72988d4c67c2",
     "showTitle": false,
     "title": ""
    }
   },
   "outputs": [
    {
     "output_type": "stream",
     "name": "stdout",
     "output_type": "stream",
     "text": [
      "+-----------------------------------------------------------------------------------------------------------------------------------------------------------------------------------------------------------------------------------------------------------------------------------------------------------------------------------------------------------------------------------------------------------------------------------------------------------------------------------------------------------------------------------------------------------------------------------------------------------------------------------------------------------------------------------------------------------------------------------------------------------------------------------------------------------------------------------------------------------------------------------------------------------------------------------------------------------------------------------------------------------------------------------------------------------------+\n|value                                                                                                                                                                                                                                                                                                                                                                                                                                                                                                                                                                                                                                                                                                                                                                                                                                                                                                                                                                                                                                                            |\n+-----------------------------------------------------------------------------------------------------------------------------------------------------------------------------------------------------------------------------------------------------------------------------------------------------------------------------------------------------------------------------------------------------------------------------------------------------------------------------------------------------------------------------------------------------------------------------------------------------------------------------------------------------------------------------------------------------------------------------------------------------------------------------------------------------------------------------------------------------------------------------------------------------------------------------------------------------------------------------------------------------------------------------------------------------------------+\n|{\"commitInfo\":{\"timestamp\":1723176889255,\"userId\":\"6836536383695527\",\"userName\":\"naveenpn.trainer@gmail.com\",\"operation\":\"WRITE\",\"operationParameters\":{\"mode\":\"Overwrite\",\"partitionBy\":\"[]\"},\"notebook\":{\"notebookId\":\"4022668738071548\"},\"clusterId\":\"0809-035608-y0x7rtxm\",\"isolationLevel\":\"WriteSerializable\",\"isBlindAppend\":false,\"operationMetrics\":{\"numFiles\":\"1\",\"numOutputRows\":\"500\",\"numOutputBytes\":\"28541\"},\"engineInfo\":\"Databricks-Runtime/12.2.x-scala2.12\",\"txnId\":\"db075e91-63ee-4e33-923b-c32d8e77d044\"}}                                                                                                                                                                                                                                                                                                                                                                                                                                                                                                                                 |\n|{\"protocol\":{\"minReaderVersion\":1,\"minWriterVersion\":2}}                                                                                                                                                                                                                                                                                                                                                                                                                                                                                                                                                                                                                                                                                                                                                                                                                                                                                                                                                                                                         |\n|{\"metaData\":{\"id\":\"a7d2f177-6d8d-4587-8e78-2b25a23fe185\",\"format\":{\"provider\":\"parquet\",\"options\":{}},\"schemaString\":\"{\\\"type\\\":\\\"struct\\\",\\\"fields\\\":[{\\\"name\\\":\\\"id\\\",\\\"type\\\":\\\"integer\\\",\\\"nullable\\\":true,\\\"metadata\\\":{}},{\\\"name\\\":\\\"name\\\",\\\"type\\\":\\\"string\\\",\\\"nullable\\\":true,\\\"metadata\\\":{}},{\\\"name\\\":\\\"dob\\\",\\\"type\\\":\\\"date\\\",\\\"nullable\\\":true,\\\"metadata\\\":{\\\"__detected_date_formats\\\":\\\"yyyy-M-d\\\"}},{\\\"name\\\":\\\"email\\\",\\\"type\\\":\\\"string\\\",\\\"nullable\\\":true,\\\"metadata\\\":{}},{\\\"name\\\":\\\"gender\\\",\\\"type\\\":\\\"string\\\",\\\"nullable\\\":true,\\\"metadata\\\":{}},{\\\"name\\\":\\\"country\\\",\\\"type\\\":\\\"string\\\",\\\"nullable\\\":true,\\\"metadata\\\":{}},{\\\"name\\\":\\\"region\\\",\\\"type\\\":\\\"string\\\",\\\"nullable\\\":true,\\\"metadata\\\":{}},{\\\"name\\\":\\\"city\\\",\\\"type\\\":\\\"string\\\",\\\"nullable\\\":true,\\\"metadata\\\":{}},{\\\"name\\\":\\\"asset\\\",\\\"type\\\":\\\"integer\\\",\\\"nullable\\\":true,\\\"metadata\\\":{}},{\\\"name\\\":\\\"marital_status\\\",\\\"type\\\":\\\"string\\\",\\\"nullable\\\":true,\\\"metadata\\\":{}}]}\",\"partitionColumns\":[],\"configuration\":{},\"createdTime\":1723176882631}}     |\n|{\"add\":{\"path\":\"part-00000-ea09d48a-0b5c-4a84-961b-368b6e301723-c000.snappy.parquet\",\"partitionValues\":{},\"size\":28541,\"modificationTime\":1723176885000,\"dataChange\":true,\"stats\":\"{\\\"numRecords\\\":500,\\\"minValues\\\":{\\\"id\\\":1,\\\"name\\\":\\\"Abbot Parker\\\",\\\"dob\\\":\\\"2023-03-28\\\",\\\"email\\\":\\\"abbotparker@ymail.com\\\",\\\"gender\\\":\\\"Female\\\",\\\"country\\\":\\\"India\\\",\\\"region\\\":\\\"Alabama\\\",\\\"city\\\":\\\"Agartala\\\",\\\"asset\\\":101599,\\\"marital_status\\\":\\\"Common Law\\\"},\\\"maxValues\\\":{\\\"id\\\":500,\\\"name\\\":\\\"Zorita Oliver\\\",\\\"dob\\\":\\\"2025-03-28\\\",\\\"email\\\":\\\"zoritaoliver6755@ymail.com\\\",\\\"gender\\\":\\\"Transgender\\\",\\\"country\\\":\\\"United States\\\",\\\"region\\\":\\\"Wyoming\\\",\\\"city\\\":\\\"Yamuna Nagar\\\",\\\"asset\\\":997997,\\\"marital_status\\\":\\\"Single\\\"},\\\"nullCount\\\":{\\\"id\\\":0,\\\"name\\\":0,\\\"dob\\\":0,\\\"email\\\":0,\\\"gender\\\":0,\\\"country\\\":0,\\\"region\\\":0,\\\"city\\\":0,\\\"asset\\\":0,\\\"marital_status\\\":0}}\",\"tags\":{\"INSERTION_TIME\":\"1723176885000000\",\"MIN_INSERTION_TIME\":\"1723176885000000\",\"MAX_INSERTION_TIME\":\"1723176885000000\",\"OPTIMIZE_TARGET_SIZE\":\"268435456\"}}}|\n+-----------------------------------------------------------------------------------------------------------------------------------------------------------------------------------------------------------------------------------------------------------------------------------------------------------------------------------------------------------------------------------------------------------------------------------------------------------------------------------------------------------------------------------------------------------------------------------------------------------------------------------------------------------------------------------------------------------------------------------------------------------------------------------------------------------------------------------------------------------------------------------------------------------------------------------------------------------------------------------------------------------------------------------------------------------------+\n\n"
     ]
    }
   ],
   "source": [
    "spark.read.format(\"text\").load(\"dbfs:/FileStore/tables/sample_dataset/users_delta/_delta_log/00000000000000000000.json\").show(truncate=False)"
   ]
  },
  {
   "cell_type": "markdown",
   "metadata": {
    "application/vnd.databricks.v1+cell": {
     "cellMetadata": {},
     "inputWidgets": {},
     "nuid": "853e7322-e13c-4c60-80a9-d3f86d4c013d",
     "showTitle": false,
     "title": ""
    }
   },
   "source": [
    "## Approach 02"
   ]
  },
  {
   "cell_type": "code",
   "execution_count": 0,
   "metadata": {
    "application/vnd.databricks.v1+cell": {
     "cellMetadata": {
      "byteLimit": 2048000,
      "rowLimit": 10000
     },
     "inputWidgets": {},
     "nuid": "e1e68281-85ec-48e0-ad56-6b475ee5f276",
     "showTitle": false,
     "title": ""
    }
   },
   "outputs": [
    {
     "output_type": "display_data",
     "data": {
      "text/html": [
       "<style scoped>\n",
       "  .table-result-container {\n",
       "    max-height: 300px;\n",
       "    overflow: auto;\n",
       "  }\n",
       "  table, th, td {\n",
       "    border: 1px solid black;\n",
       "    border-collapse: collapse;\n",
       "  }\n",
       "  th, td {\n",
       "    padding: 5px;\n",
       "  }\n",
       "  th {\n",
       "    text-align: left;\n",
       "  }\n",
       "</style><div class='table-result-container'><table class='table-result'><thead style='background-color: white'><tr><th>version</th><th>timestamp</th><th>userId</th><th>userName</th><th>operation</th><th>operationParameters</th><th>job</th><th>notebook</th><th>clusterId</th><th>readVersion</th><th>isolationLevel</th><th>isBlindAppend</th><th>operationMetrics</th><th>userMetadata</th><th>engineInfo</th></tr></thead><tbody><tr><td>2</td><td>2024-08-09T04:26:59.000+0000</td><td>6836536383695527</td><td>naveenpn.trainer@gmail.com</td><td>WRITE</td><td>Map(mode -> Append, partitionBy -> [])</td><td>null</td><td>List(4022668738071548)</td><td>0809-035608-y0x7rtxm</td><td>1</td><td>WriteSerializable</td><td>true</td><td>Map(numFiles -> 1, numOutputRows -> 1, numOutputBytes -> 3084)</td><td>null</td><td>Databricks-Runtime/12.2.x-scala2.12</td></tr><tr><td>1</td><td>2024-08-09T04:20:48.000+0000</td><td>6836536383695527</td><td>naveenpn.trainer@gmail.com</td><td>WRITE</td><td>Map(mode -> Overwrite, partitionBy -> [])</td><td>null</td><td>List(4022668738071548)</td><td>0809-035608-y0x7rtxm</td><td>0</td><td>WriteSerializable</td><td>false</td><td>Map(numFiles -> 1, numOutputRows -> 1, numOutputBytes -> 3084)</td><td>null</td><td>Databricks-Runtime/12.2.x-scala2.12</td></tr><tr><td>0</td><td>2024-08-09T04:14:50.000+0000</td><td>6836536383695527</td><td>naveenpn.trainer@gmail.com</td><td>WRITE</td><td>Map(mode -> Overwrite, partitionBy -> [])</td><td>null</td><td>List(4022668738071548)</td><td>0809-035608-y0x7rtxm</td><td>null</td><td>WriteSerializable</td><td>false</td><td>Map(numFiles -> 1, numOutputRows -> 500, numOutputBytes -> 28541)</td><td>null</td><td>Databricks-Runtime/12.2.x-scala2.12</td></tr></tbody></table></div>"
      ]
     },
     "metadata": {
      "application/vnd.databricks.v1+output": {
       "addedWidgets": {},
       "aggData": [],
       "aggError": "",
       "aggOverflow": false,
       "aggSchema": [],
       "aggSeriesLimitReached": false,
       "aggType": "",
       "arguments": {},
       "columnCustomDisplayInfos": {},
       "data": [
        [
         2,
         "2024-08-09T04:26:59.000+0000",
         "6836536383695527",
         "naveenpn.trainer@gmail.com",
         "WRITE",
         {
          "mode": "Append",
          "partitionBy": "[]"
         },
         null,
         [
          "4022668738071548"
         ],
         "0809-035608-y0x7rtxm",
         1,
         "WriteSerializable",
         true,
         {
          "numFiles": "1",
          "numOutputBytes": "3084",
          "numOutputRows": "1"
         },
         null,
         "Databricks-Runtime/12.2.x-scala2.12"
        ],
        [
         1,
         "2024-08-09T04:20:48.000+0000",
         "6836536383695527",
         "naveenpn.trainer@gmail.com",
         "WRITE",
         {
          "mode": "Overwrite",
          "partitionBy": "[]"
         },
         null,
         [
          "4022668738071548"
         ],
         "0809-035608-y0x7rtxm",
         0,
         "WriteSerializable",
         false,
         {
          "numFiles": "1",
          "numOutputBytes": "3084",
          "numOutputRows": "1"
         },
         null,
         "Databricks-Runtime/12.2.x-scala2.12"
        ],
        [
         0,
         "2024-08-09T04:14:50.000+0000",
         "6836536383695527",
         "naveenpn.trainer@gmail.com",
         "WRITE",
         {
          "mode": "Overwrite",
          "partitionBy": "[]"
         },
         null,
         [
          "4022668738071548"
         ],
         "0809-035608-y0x7rtxm",
         null,
         "WriteSerializable",
         false,
         {
          "numFiles": "1",
          "numOutputBytes": "28541",
          "numOutputRows": "500"
         },
         null,
         "Databricks-Runtime/12.2.x-scala2.12"
        ]
       ],
       "datasetInfos": [],
       "dbfsResultPath": null,
       "isJsonSchema": true,
       "metadata": {},
       "overflow": false,
       "plotOptions": {
        "customPlotOptions": {},
        "displayType": "table",
        "pivotAggregation": null,
        "pivotColumns": null,
        "xColumns": null,
        "yColumns": null
       },
       "removedWidgets": [],
       "schema": [
        {
         "metadata": "{}",
         "name": "version",
         "type": "\"long\""
        },
        {
         "metadata": "{}",
         "name": "timestamp",
         "type": "\"timestamp\""
        },
        {
         "metadata": "{}",
         "name": "userId",
         "type": "\"string\""
        },
        {
         "metadata": "{}",
         "name": "userName",
         "type": "\"string\""
        },
        {
         "metadata": "{}",
         "name": "operation",
         "type": "\"string\""
        },
        {
         "metadata": "{}",
         "name": "operationParameters",
         "type": "{\"type\":\"map\",\"keyType\":\"string\",\"valueType\":\"string\",\"valueContainsNull\":true}"
        },
        {
         "metadata": "{}",
         "name": "job",
         "type": "{\"type\":\"struct\",\"fields\":[{\"name\":\"jobId\",\"type\":\"string\",\"nullable\":true,\"metadata\":{}},{\"name\":\"jobName\",\"type\":\"string\",\"nullable\":true,\"metadata\":{}},{\"name\":\"jobRunId\",\"type\":\"string\",\"nullable\":true,\"metadata\":{}},{\"name\":\"runId\",\"type\":\"string\",\"nullable\":true,\"metadata\":{}},{\"name\":\"jobOwnerId\",\"type\":\"string\",\"nullable\":true,\"metadata\":{}},{\"name\":\"triggerType\",\"type\":\"string\",\"nullable\":true,\"metadata\":{}}]}"
        },
        {
         "metadata": "{}",
         "name": "notebook",
         "type": "{\"type\":\"struct\",\"fields\":[{\"name\":\"notebookId\",\"type\":\"string\",\"nullable\":true,\"metadata\":{}}]}"
        },
        {
         "metadata": "{}",
         "name": "clusterId",
         "type": "\"string\""
        },
        {
         "metadata": "{}",
         "name": "readVersion",
         "type": "\"long\""
        },
        {
         "metadata": "{}",
         "name": "isolationLevel",
         "type": "\"string\""
        },
        {
         "metadata": "{}",
         "name": "isBlindAppend",
         "type": "\"boolean\""
        },
        {
         "metadata": "{}",
         "name": "operationMetrics",
         "type": "{\"type\":\"map\",\"keyType\":\"string\",\"valueType\":\"string\",\"valueContainsNull\":true}"
        },
        {
         "metadata": "{}",
         "name": "userMetadata",
         "type": "\"string\""
        },
        {
         "metadata": "{}",
         "name": "engineInfo",
         "type": "\"string\""
        }
       ],
       "type": "table"
      }
     },
     "output_type": "display_data"
    }
   ],
   "source": [
    "from delta.tables import DeltaTable\n",
    "\n",
    "delta = DeltaTable.forPath(spark,\"dbfs:/FileStore/tables/sample_dataset/users_delta/\")\n",
    "delta.history().display()"
   ]
  },
  {
   "cell_type": "code",
   "execution_count": 0,
   "metadata": {
    "application/vnd.databricks.v1+cell": {
     "cellMetadata": {},
     "inputWidgets": {},
     "nuid": "04efc3e0-240a-476e-a696-672ace5765d6",
     "showTitle": false,
     "title": ""
    }
   },
   "outputs": [],
   "source": []
  }
 ],
 "metadata": {
  "application/vnd.databricks.v1+notebook": {
   "dashboards": [],
   "environmentMetadata": null,
   "language": "python",
   "notebookMetadata": {
    "pythonIndentUnit": 4
   },
   "notebookName": "02. Delta Lake Creation and Understanding Transaction Log",
   "widgets": {}
  }
 },
 "nbformat": 4,
 "nbformat_minor": 0
}
